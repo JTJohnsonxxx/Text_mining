{
 "cells": [
  {
   "cell_type": "code",
   "execution_count": 2,
   "metadata": {},
   "outputs": [],
   "source": [
    "import pandas as pd\n",
    "import numpy as np\n",
    "import time\n",
    "from scipy.sparse import dok_matrix\n",
    "from scipy.sparse import coo_matrix\n",
    "import scipy.sparse \n",
    "import sys\n",
    "import seaborn as sns\n",
    "import matplotlib.pyplot as plt\n",
    "from sklearn import cluster, metrics\n",
    "from sklearn.cluster import KMeans\n",
    "from scipy.spatial.distance import cdist\n",
    "from sklearn import preprocessing"
   ]
  },
  {
   "cell_type": "markdown",
   "metadata": {},
   "source": [
    "## UA matrix"
   ]
  },
  {
   "cell_type": "code",
   "execution_count": 2,
   "metadata": {},
   "outputs": [],
   "source": [
    "word=pd.read_csv('/Users/johnson/Desktop/womany/womany-shop/data/word/articles_bq-results-20191018-120757-rz4vi3ny9up5.csv')\n",
    "tags=pd.read_csv('/Users/johnson/Desktop/womany/womany-shop/data/word/keywords_bq-results-20191016-105842-gjfe3oczpgba.csv')\n",
    "hits=pd.read_csv('/Users/johnson/Desktop/womany/womany-shop/data/word/hits_bq-results-20191018-124800-x9nh5wotdsrv.csv')"
   ]
  },
  {
   "cell_type": "code",
   "execution_count": 3,
   "metadata": {},
   "outputs": [],
   "source": [
    "u_arr=np.sort(hits['user_id'].unique())\n",
    "a_arr=np.sort(hits['param_id'].unique())"
   ]
  },
  {
   "cell_type": "code",
   "execution_count": 4,
   "metadata": {},
   "outputs": [
    {
     "data": {
      "text/plain": [
       "(83047,)"
      ]
     },
     "execution_count": 4,
     "metadata": {},
     "output_type": "execute_result"
    }
   ],
   "source": [
    "u_arr.shape"
   ]
  },
  {
   "cell_type": "code",
   "execution_count": 5,
   "metadata": {},
   "outputs": [
    {
     "data": {
      "text/plain": [
       "(17044,)"
      ]
     },
     "execution_count": 5,
     "metadata": {},
     "output_type": "execute_result"
    }
   ],
   "source": [
    "a_arr.shape"
   ]
  },
  {
   "cell_type": "markdown",
   "metadata": {},
   "source": [
    "## AK matrix"
   ]
  },
  {
   "cell_type": "code",
   "execution_count": 6,
   "metadata": {},
   "outputs": [],
   "source": [
    "a_k_merge=pd.merge(word,tags,on='id',how='inner')"
   ]
  },
  {
   "cell_type": "code",
   "execution_count": 7,
   "metadata": {},
   "outputs": [],
   "source": [
    "a_k_merge=a_k_merge.rename(columns={'description_x':'description','id':'article_id'})"
   ]
  },
  {
   "cell_type": "code",
   "execution_count": 8,
   "metadata": {},
   "outputs": [],
   "source": [
    "a_k_df=a_k_merge[['article_id', 'description',\n",
    "        'name', 'created_at', 'updated_at']]\n",
    "a_k_df=a_k_df.loc[a_k_df['article_id'].isin(a_arr)]"
   ]
  },
  {
   "cell_type": "code",
   "execution_count": 9,
   "metadata": {},
   "outputs": [],
   "source": [
    "a_k_df['count']=1\n",
    "a_k=a_k_df.pivot_table(index='name', columns='article_id', values='count').fillna(0)"
   ]
  },
  {
   "cell_type": "code",
   "execution_count": null,
   "metadata": {},
   "outputs": [],
   "source": [
    "a_k=a_k.T.astype(int)"
   ]
  },
  {
   "cell_type": "code",
   "execution_count": null,
   "metadata": {},
   "outputs": [],
   "source": [
    "k_arr=np.sort(a_k.T.index.unique())"
   ]
  },
  {
   "cell_type": "markdown",
   "metadata": {},
   "source": [
    "## UK matrix (sparse matrix)"
   ]
  },
  {
   "cell_type": "code",
   "execution_count": null,
   "metadata": {},
   "outputs": [],
   "source": [
    "def sparse_martix_u_a(hits):\n",
    "    t0 = time.time()\n",
    "    dict_u_a = {}\n",
    "    for idx, row in hits.iterrows():\n",
    "        u_idx = np.where(u_arr == row['user_id'])[0][0]\n",
    "        a_idx = np.where(a_arr == row['param_id'])[0][0]\n",
    "\n",
    "        if dict_u_a.get((u_idx, a_idx), 0) == 0:\n",
    "            dict_u_a[(u_idx, a_idx)] = 1\n",
    "        elif dict_u_a.get((u_idx, a_idx), 0) > 0:\n",
    "            dict_u_a[(u_idx, a_idx)] += 1\n",
    "\n",
    "    print(time.time() - t0)\n",
    "    return dict_u_a"
   ]
  },
  {
   "cell_type": "code",
   "execution_count": null,
   "metadata": {},
   "outputs": [],
   "source": [
    "dict_u_a = sparse_martix_u_a(hits)"
   ]
  },
  {
   "cell_type": "code",
   "execution_count": null,
   "metadata": {},
   "outputs": [],
   "source": [
    "### from sparse dict get rows\n",
    "def get_3x1darray_row(dict_x):\n",
    "    row=[]\n",
    "    for (r1,c1), v1 in dict_x.items():\n",
    "        row.append(r1)\n",
    "    return np.asarray(row)\n",
    "\n",
    "### from sparse dict get cols\n",
    "def get_3x1darray_col(dict_x):\n",
    "    col=[]\n",
    "    for (r1,c1), v1 in dict_x.items():\n",
    "        col.append(c1)\n",
    "    return np.asarray(col)\n",
    "\n",
    "### from sparse dict get vals\n",
    "def get_3x1darray_val(dict_x):\n",
    "    val=[]\n",
    "    for (r1,c1), v1 in dict_x.items():\n",
    "        val.append(v1)\n",
    "    return np.asarray(val)"
   ]
  },
  {
   "cell_type": "code",
   "execution_count": null,
   "metadata": {},
   "outputs": [],
   "source": [
    "u_a_row=get_3x1darray_row(dict_u_a)\n",
    "u_a_col=get_3x1darray_col(dict_u_a)\n",
    "u_a_val=get_3x1darray_val(dict_u_a)"
   ]
  },
  {
   "cell_type": "code",
   "execution_count": null,
   "metadata": {},
   "outputs": [],
   "source": [
    "coo_u_a=coo_matrix((u_a_val, (u_a_row, u_a_col)), shape=(len(u_arr), len(a_arr)))"
   ]
  },
  {
   "cell_type": "code",
   "execution_count": null,
   "metadata": {},
   "outputs": [],
   "source": [
    "coo_a_k=coo_matrix(a_k.values)\n",
    "# u_a_k=get_3x1darray_row(dict_a_k)"
   ]
  },
  {
   "cell_type": "code",
   "execution_count": 92,
   "metadata": {},
   "outputs": [
    {
     "name": "stdout",
     "output_type": "stream",
     "text": [
      "1.8169682025909424\n"
     ]
    }
   ],
   "source": [
    "t1 = time.time()\n",
    "\n",
    "coo_u_k_sparse_matrix=coo_u_a*coo_a_k\n",
    "\n",
    "print(time.time() - t1)"
   ]
  },
  {
   "cell_type": "code",
   "execution_count": 94,
   "metadata": {},
   "outputs": [],
   "source": [
    "u_k_arr=coo_u_k_sparse_matrix.todense()"
   ]
  },
  {
   "cell_type": "markdown",
   "metadata": {},
   "source": [
    "## load uk matrix"
   ]
  },
  {
   "cell_type": "code",
   "execution_count": 3,
   "metadata": {},
   "outputs": [],
   "source": [
    "### loading data\n",
    "coo_u_k_sparse_matrix_test=scipy.sparse.load_npz('/Users/johnson/Desktop/womany/womany-shop/data/user_keywords/coo_u_k_sparse_matrix.npz')\n",
    "user_array=np.load('/Users/johnson/Desktop/womany/womany-shop/data/user_keywords/user_array.npy')\n",
    "keywords_array=np.load('/Users/johnson/Desktop/womany/womany-shop/data/user_keywords/keywords_array.npy')\n",
    "\n",
    "user_keywords_array=coo_u_k_sparse_matrix_test.todense()"
   ]
  },
  {
   "cell_type": "code",
   "execution_count": 4,
   "metadata": {},
   "outputs": [],
   "source": [
    "u_k_df=pd.DataFrame(user_keywords_array,columns=keywords_array).set_index(user_array,drop=False)"
   ]
  },
  {
   "cell_type": "code",
   "execution_count": 5,
   "metadata": {},
   "outputs": [],
   "source": [
    "df=u_k_df"
   ]
  },
  {
   "cell_type": "code",
   "execution_count": null,
   "metadata": {},
   "outputs": [],
   "source": [
    "# for i in range(len(u_k_df_new)):\n",
    "#     tmp=u_k_df_new.iloc[i,:].div(u_k_df_new.iloc[i,:].sum())\n",
    "#     tmp_p=tmp*100\n",
    "#     u_k_df_new.iloc[i,:]=tmp_p"
   ]
  },
  {
   "cell_type": "code",
   "execution_count": 6,
   "metadata": {},
   "outputs": [
    {
     "name": "stdout",
     "output_type": "stream",
     "text": [
      "31.11707592010498\n"
     ]
    }
   ],
   "source": [
    "time1=time.time()\n",
    "uk_div_df=df.div(df.sum(axis=1), axis=0).fillna(0)\n",
    "print(time.time()-time1)"
   ]
  },
  {
   "cell_type": "code",
   "execution_count": 15,
   "metadata": {},
   "outputs": [],
   "source": [
    "uk_percentage_df=uk_div_df*100"
   ]
  },
  {
   "cell_type": "markdown",
   "metadata": {},
   "source": [
    "## hard clustering V2 (with percentage)"
   ]
  },
  {
   "cell_type": "code",
   "execution_count": 23,
   "metadata": {},
   "outputs": [
    {
     "name": "stdout",
     "output_type": "stream",
     "text": [
      "Now processing: 50\n",
      "Now processing: 90\n",
      "5459.016459941864\n"
     ]
    }
   ],
   "source": [
    "cluster_list=uk_percentage_df.T.to_numpy()\n",
    "\n",
    "distortions = []\n",
    "models={}\n",
    "\n",
    "time1=time.time()\n",
    "\n",
    "K = [50,90]\n",
    "for k in K:\n",
    "    print(\"Now processing:\",k)\n",
    "    kmeanModel = KMeans(n_clusters=k).fit(cluster_list)\n",
    "    models[k]=kmeanModel.fit(cluster_list)\n",
    "    distortions.append(sum(np.min(cdist(cluster_list, kmeanModel.cluster_centers_, 'euclidean'), axis=1)) / cluster_list.shape[0])\n",
    "\n",
    "\n",
    "print(time.time()-time1)"
   ]
  },
  {
   "cell_type": "code",
   "execution_count": 25,
   "metadata": {},
   "outputs": [
    {
     "data": {
      "image/png": "[encoded data removed]",
      "text/plain": [
       "<Figure size 432x288 with 1 Axes>"
      ]
     },
     "metadata": {
      "needs_background": "light"
     },
     "output_type": "display_data"
    }
   ],
   "source": [
    "plt.plot(K, distortions, 'bx-')\n",
    "plt.xlabel('k')\n",
    "plt.ylabel('Distortion')\n",
    "plt.title('The Elbow Method showing the optimal k')\n",
    "plt.show()\n"
   ]
  },
  {
   "cell_type": "markdown",
   "metadata": {},
   "source": [
    "## K=50"
   ]
  },
  {
   "cell_type": "code",
   "execution_count": 26,
   "metadata": {},
   "outputs": [
    {
     "name": "stdout",
     "output_type": "stream",
     "text": [
      "分群結果：\n",
      "[22 22 22 ... 22 22 22]\n",
      "---\n"
     ]
    }
   ],
   "source": [
    "#means_fit = cluster.KMeans(n_clusters = 50).fit(cluster_list)\n",
    "#cluster_labels = means_fit.labels_\n",
    "cluster_labels50=models[50].labels_\n",
    "print(\"分群結果：\")\n",
    "print(cluster_labels50)\n",
    "print(\"---\")"
   ]
  },
  {
   "cell_type": "code",
   "execution_count": 32,
   "metadata": {},
   "outputs": [],
   "source": [
    "cluster_labels50_df=pd.DataFrame(cluster_labels50,columns=['cluster_labels'])\n",
    "uk_percentage_df_T=uk_percentage_df.T.reset_index(drop=True)\n",
    "uk_percentage_df_T_new=uk_percentage_df_T.reset_index(drop=True)\n",
    "cluster_result50=pd.concat([uk_percentage_df_T_new,cluster_labels50_df],axis=1)\n"
   ]
  },
  {
   "cell_type": "code",
   "execution_count": 35,
   "metadata": {},
   "outputs": [],
   "source": [
    "cluster_result50['key_words']=uk_percentage_df.T.index"
   ]
  },
  {
   "cell_type": "code",
   "execution_count": 37,
   "metadata": {},
   "outputs": [],
   "source": [
    "cluster_result50_final=cluster_result50[['key_words','cluster_labels']]"
   ]
  },
  {
   "cell_type": "code",
   "execution_count": 39,
   "metadata": {},
   "outputs": [
    {
     "data": {
      "text/plain": [
       "22    4665\n",
       "0      356\n",
       "16     113\n",
       "7       34\n",
       "14      34\n",
       "18      31\n",
       "42      21\n",
       "20      21\n",
       "44      16\n",
       "36      13\n",
       "37       9\n",
       "38       9\n",
       "11       8\n",
       "1        7\n",
       "48       7\n",
       "12       7\n",
       "31       5\n",
       "9        4\n",
       "4        4\n",
       "47       4\n",
       "23       4\n",
       "5        3\n",
       "32       3\n",
       "29       2\n",
       "28       2\n",
       "19       2\n",
       "13       2\n",
       "26       2\n",
       "2        2\n",
       "43       2\n",
       "33       1\n",
       "30       1\n",
       "39       1\n",
       "8        1\n",
       "35       1\n",
       "27       1\n",
       "6        1\n",
       "24       1\n",
       "49       1\n",
       "40       1\n",
       "15       1\n",
       "3        1\n",
       "46       1\n",
       "10       1\n",
       "34       1\n",
       "41       1\n",
       "17       1\n",
       "21       1\n",
       "25       1\n",
       "45       1\n",
       "Name: cluster_labels, dtype: int64"
      ]
     },
     "execution_count": 39,
     "metadata": {},
     "output_type": "execute_result"
    }
   ],
   "source": [
    "cluster_result50_final['cluster_labels'].value_counts()"
   ]
  },
  {
   "cell_type": "code",
   "execution_count": 52,
   "metadata": {},
   "outputs": [
    {
     "data": {
      "text/html": [
       "<div>\n",
       "<style scoped>\n",
       "    .dataframe tbody tr th:only-of-type {\n",
       "        vertical-align: middle;\n",
       "    }\n",
       "\n",
       "    .dataframe tbody tr th {\n",
       "        vertical-align: top;\n",
       "    }\n",
       "\n",
       "    .dataframe thead th {\n",
       "        text-align: right;\n",
       "    }\n",
       "</style>\n",
       "<table border=\"1\" class=\"dataframe\">\n",
       "  <thead>\n",
       "    <tr style=\"text-align: right;\">\n",
       "      <th></th>\n",
       "      <th>key_words</th>\n",
       "      <th>cluster_labels</th>\n",
       "    </tr>\n",
       "  </thead>\n",
       "  <tbody>\n",
       "    <tr>\n",
       "      <th>6</th>\n",
       "      <td>09</td>\n",
       "      <td>0</td>\n",
       "    </tr>\n",
       "    <tr>\n",
       "      <th>67</th>\n",
       "      <td>26</td>\n",
       "      <td>0</td>\n",
       "    </tr>\n",
       "    <tr>\n",
       "      <th>71</th>\n",
       "      <td>28</td>\n",
       "      <td>0</td>\n",
       "    </tr>\n",
       "    <tr>\n",
       "      <th>75</th>\n",
       "      <td>29</td>\n",
       "      <td>0</td>\n",
       "    </tr>\n",
       "    <tr>\n",
       "      <th>101</th>\n",
       "      <td>36</td>\n",
       "      <td>0</td>\n",
       "    </tr>\n",
       "    <tr>\n",
       "      <th>132</th>\n",
       "      <td>70</td>\n",
       "      <td>0</td>\n",
       "    </tr>\n",
       "    <tr>\n",
       "      <th>179</th>\n",
       "      <td>Bar</td>\n",
       "      <td>0</td>\n",
       "    </tr>\n",
       "    <tr>\n",
       "      <th>188</th>\n",
       "      <td>Can</td>\n",
       "      <td>0</td>\n",
       "    </tr>\n",
       "    <tr>\n",
       "      <th>211</th>\n",
       "      <td>Fu</td>\n",
       "      <td>0</td>\n",
       "    </tr>\n",
       "    <tr>\n",
       "      <th>214</th>\n",
       "      <td>Get</td>\n",
       "      <td>0</td>\n",
       "    </tr>\n",
       "    <tr>\n",
       "      <th>253</th>\n",
       "      <td>LIT</td>\n",
       "      <td>0</td>\n",
       "    </tr>\n",
       "    <tr>\n",
       "      <th>254</th>\n",
       "      <td>LV</td>\n",
       "      <td>0</td>\n",
       "    </tr>\n",
       "    <tr>\n",
       "      <th>259</th>\n",
       "      <td>Lit</td>\n",
       "      <td>0</td>\n",
       "    </tr>\n",
       "    <tr>\n",
       "      <th>278</th>\n",
       "      <td>Nin</td>\n",
       "      <td>0</td>\n",
       "    </tr>\n",
       "    <tr>\n",
       "      <th>292</th>\n",
       "      <td>R.</td>\n",
       "      <td>0</td>\n",
       "    </tr>\n",
       "    <tr>\n",
       "      <th>312</th>\n",
       "      <td>TED</td>\n",
       "      <td>0</td>\n",
       "    </tr>\n",
       "    <tr>\n",
       "      <th>316</th>\n",
       "      <td>Ted</td>\n",
       "      <td>0</td>\n",
       "    </tr>\n",
       "    <tr>\n",
       "      <th>343</th>\n",
       "      <td>act</td>\n",
       "      <td>0</td>\n",
       "    </tr>\n",
       "    <tr>\n",
       "      <th>371</th>\n",
       "      <td>app</td>\n",
       "      <td>0</td>\n",
       "    </tr>\n",
       "    <tr>\n",
       "      <th>374</th>\n",
       "      <td>are</td>\n",
       "      <td>0</td>\n",
       "    </tr>\n",
       "    <tr>\n",
       "      <th>394</th>\n",
       "      <td>bar</td>\n",
       "      <td>0</td>\n",
       "    </tr>\n",
       "    <tr>\n",
       "      <th>420</th>\n",
       "      <td>book</td>\n",
       "      <td>0</td>\n",
       "    </tr>\n",
       "    <tr>\n",
       "      <th>427</th>\n",
       "      <td>bra</td>\n",
       "      <td>0</td>\n",
       "    </tr>\n",
       "    <tr>\n",
       "      <th>435</th>\n",
       "      <td>but</td>\n",
       "      <td>0</td>\n",
       "    </tr>\n",
       "    <tr>\n",
       "      <th>447</th>\n",
       "      <td>cc</td>\n",
       "      <td>0</td>\n",
       "    </tr>\n",
       "    <tr>\n",
       "      <th>474</th>\n",
       "      <td>con</td>\n",
       "      <td>0</td>\n",
       "    </tr>\n",
       "    <tr>\n",
       "      <th>494</th>\n",
       "      <td>day</td>\n",
       "      <td>0</td>\n",
       "    </tr>\n",
       "    <tr>\n",
       "      <th>501</th>\n",
       "      <td>del</td>\n",
       "      <td>0</td>\n",
       "    </tr>\n",
       "    <tr>\n",
       "      <th>519</th>\n",
       "      <td>du</td>\n",
       "      <td>0</td>\n",
       "    </tr>\n",
       "    <tr>\n",
       "      <th>522</th>\n",
       "      <td>ear</td>\n",
       "      <td>0</td>\n",
       "    </tr>\n",
       "    <tr>\n",
       "      <th>...</th>\n",
       "      <td>...</td>\n",
       "      <td>...</td>\n",
       "    </tr>\n",
       "    <tr>\n",
       "      <th>4993</th>\n",
       "      <td>週運勢</td>\n",
       "      <td>0</td>\n",
       "    </tr>\n",
       "    <tr>\n",
       "      <th>5008</th>\n",
       "      <td>運勢</td>\n",
       "      <td>0</td>\n",
       "    </tr>\n",
       "    <tr>\n",
       "      <th>5009</th>\n",
       "      <td>運氣</td>\n",
       "      <td>0</td>\n",
       "    </tr>\n",
       "    <tr>\n",
       "      <th>5019</th>\n",
       "      <td>遠距</td>\n",
       "      <td>0</td>\n",
       "    </tr>\n",
       "    <tr>\n",
       "      <th>5020</th>\n",
       "      <td>遠距離</td>\n",
       "      <td>0</td>\n",
       "    </tr>\n",
       "    <tr>\n",
       "      <th>5027</th>\n",
       "      <td>遠離</td>\n",
       "      <td>0</td>\n",
       "    </tr>\n",
       "    <tr>\n",
       "      <th>5062</th>\n",
       "      <td>酒吧</td>\n",
       "      <td>0</td>\n",
       "    </tr>\n",
       "    <tr>\n",
       "      <th>5085</th>\n",
       "      <td>金牛</td>\n",
       "      <td>0</td>\n",
       "    </tr>\n",
       "    <tr>\n",
       "      <th>5086</th>\n",
       "      <td>金牛座</td>\n",
       "      <td>0</td>\n",
       "    </tr>\n",
       "    <tr>\n",
       "      <th>5111</th>\n",
       "      <td>長輩</td>\n",
       "      <td>0</td>\n",
       "    </tr>\n",
       "    <tr>\n",
       "      <th>5128</th>\n",
       "      <td>關係心理學</td>\n",
       "      <td>0</td>\n",
       "    </tr>\n",
       "    <tr>\n",
       "      <th>5153</th>\n",
       "      <td>陌生人</td>\n",
       "      <td>0</td>\n",
       "    </tr>\n",
       "    <tr>\n",
       "      <th>5159</th>\n",
       "      <td>陰影</td>\n",
       "      <td>0</td>\n",
       "    </tr>\n",
       "    <tr>\n",
       "      <th>5165</th>\n",
       "      <td>陰部</td>\n",
       "      <td>0</td>\n",
       "    </tr>\n",
       "    <tr>\n",
       "      <th>5196</th>\n",
       "      <td>障礙</td>\n",
       "      <td>0</td>\n",
       "    </tr>\n",
       "    <tr>\n",
       "      <th>5208</th>\n",
       "      <td>雙子</td>\n",
       "      <td>0</td>\n",
       "    </tr>\n",
       "    <tr>\n",
       "      <th>5209</th>\n",
       "      <td>雙子座</td>\n",
       "      <td>0</td>\n",
       "    </tr>\n",
       "    <tr>\n",
       "      <th>5213</th>\n",
       "      <td>雙魚</td>\n",
       "      <td>0</td>\n",
       "    </tr>\n",
       "    <tr>\n",
       "      <th>5214</th>\n",
       "      <td>雙魚座</td>\n",
       "      <td>0</td>\n",
       "    </tr>\n",
       "    <tr>\n",
       "      <th>5219</th>\n",
       "      <td>離婚</td>\n",
       "      <td>0</td>\n",
       "    </tr>\n",
       "    <tr>\n",
       "      <th>5232</th>\n",
       "      <td>離開了</td>\n",
       "      <td>0</td>\n",
       "    </tr>\n",
       "    <tr>\n",
       "      <th>5251</th>\n",
       "      <td>霸凌</td>\n",
       "      <td>0</td>\n",
       "    </tr>\n",
       "    <tr>\n",
       "      <th>5266</th>\n",
       "      <td>面具</td>\n",
       "      <td>0</td>\n",
       "    </tr>\n",
       "    <tr>\n",
       "      <th>5284</th>\n",
       "      <td>韓劇</td>\n",
       "      <td>0</td>\n",
       "    </tr>\n",
       "    <tr>\n",
       "      <th>5286</th>\n",
       "      <td>韓國</td>\n",
       "      <td>0</td>\n",
       "    </tr>\n",
       "    <tr>\n",
       "      <th>5296</th>\n",
       "      <td>預防</td>\n",
       "      <td>0</td>\n",
       "    </tr>\n",
       "    <tr>\n",
       "      <th>5318</th>\n",
       "      <td>飲食</td>\n",
       "      <td>0</td>\n",
       "    </tr>\n",
       "    <tr>\n",
       "      <th>5322</th>\n",
       "      <td>餐廳</td>\n",
       "      <td>0</td>\n",
       "    </tr>\n",
       "    <tr>\n",
       "      <th>5326</th>\n",
       "      <td>香港</td>\n",
       "      <td>0</td>\n",
       "    </tr>\n",
       "    <tr>\n",
       "      <th>5366</th>\n",
       "      <td>髮型</td>\n",
       "      <td>0</td>\n",
       "    </tr>\n",
       "  </tbody>\n",
       "</table>\n",
       "<p>356 rows × 2 columns</p>\n",
       "</div>"
      ],
      "text/plain": [
       "     key_words  cluster_labels\n",
       "6           09               0\n",
       "67          26               0\n",
       "71          28               0\n",
       "75          29               0\n",
       "101         36               0\n",
       "132         70               0\n",
       "179        Bar               0\n",
       "188        Can               0\n",
       "211         Fu               0\n",
       "214        Get               0\n",
       "253        LIT               0\n",
       "254         LV               0\n",
       "259        Lit               0\n",
       "278        Nin               0\n",
       "292         R.               0\n",
       "312        TED               0\n",
       "316        Ted               0\n",
       "343        act               0\n",
       "371        app               0\n",
       "374        are               0\n",
       "394        bar               0\n",
       "420       book               0\n",
       "427        bra               0\n",
       "435        but               0\n",
       "447         cc               0\n",
       "474        con               0\n",
       "494        day               0\n",
       "501        del               0\n",
       "519         du               0\n",
       "522        ear               0\n",
       "...        ...             ...\n",
       "4993       週運勢               0\n",
       "5008        運勢               0\n",
       "5009        運氣               0\n",
       "5019        遠距               0\n",
       "5020       遠距離               0\n",
       "5027        遠離               0\n",
       "5062        酒吧               0\n",
       "5085        金牛               0\n",
       "5086       金牛座               0\n",
       "5111        長輩               0\n",
       "5128     關係心理學               0\n",
       "5153       陌生人               0\n",
       "5159        陰影               0\n",
       "5165        陰部               0\n",
       "5196        障礙               0\n",
       "5208        雙子               0\n",
       "5209       雙子座               0\n",
       "5213        雙魚               0\n",
       "5214       雙魚座               0\n",
       "5219        離婚               0\n",
       "5232       離開了               0\n",
       "5251        霸凌               0\n",
       "5266        面具               0\n",
       "5284        韓劇               0\n",
       "5286        韓國               0\n",
       "5296        預防               0\n",
       "5318        飲食               0\n",
       "5322        餐廳               0\n",
       "5326        香港               0\n",
       "5366        髮型               0\n",
       "\n",
       "[356 rows x 2 columns]"
      ]
     },
     "execution_count": 52,
     "metadata": {},
     "output_type": "execute_result"
    }
   ],
   "source": [
    "cluster_result50_final.loc[cluster_result50_final['cluster_labels']==0]"
   ]
  },
  {
   "cell_type": "markdown",
   "metadata": {},
   "source": [
    "## K=90"
   ]
  },
  {
   "cell_type": "code",
   "execution_count": 41,
   "metadata": {},
   "outputs": [
    {
     "name": "stdout",
     "output_type": "stream",
     "text": [
      "分群結果：\n",
      "[15 15 15 ... 15 15 15]\n",
      "---\n"
     ]
    }
   ],
   "source": [
    "#means_fit = cluster.KMeans(n_clusters = 50).fit(cluster_list)\n",
    "#cluster_labels = means_fit.labels_\n",
    "cluster_labels90=models[90].labels_\n",
    "print(\"分群結果：\")\n",
    "print(cluster_labels90)\n",
    "print(\"---\")"
   ]
  },
  {
   "cell_type": "code",
   "execution_count": 42,
   "metadata": {},
   "outputs": [],
   "source": [
    "cluster_labels90_df=pd.DataFrame(cluster_labels90,columns=['cluster_labels'])\n",
    "uk_percentage_df_T=uk_percentage_df.T.reset_index(drop=True)\n",
    "uk_percentage_df_T_new=uk_percentage_df_T.reset_index(drop=True)\n",
    "cluster_result90=pd.concat([uk_percentage_df_T_new,cluster_labels90_df],axis=1)\n"
   ]
  },
  {
   "cell_type": "code",
   "execution_count": 43,
   "metadata": {},
   "outputs": [],
   "source": [
    "cluster_result90['key_words']=uk_percentage_df.T.index"
   ]
  },
  {
   "cell_type": "code",
   "execution_count": 44,
   "metadata": {},
   "outputs": [],
   "source": [
    "cluster_result90_final=cluster_result90[['key_words','cluster_labels']]"
   ]
  },
  {
   "cell_type": "code",
   "execution_count": 45,
   "metadata": {},
   "outputs": [
    {
     "data": {
      "text/plain": [
       "15    4812\n",
       "0      246\n",
       "73      31\n",
       "33      28\n",
       "76      28\n",
       "11      23\n",
       "71      21\n",
       "27      20\n",
       "66      15\n",
       "70      15\n",
       "89      15\n",
       "82      14\n",
       "36      13\n",
       "19      13\n",
       "12       7\n",
       "54       6\n",
       "55       4\n",
       "68       4\n",
       "16       4\n",
       "53       4\n",
       "57       3\n",
       "46       3\n",
       "61       2\n",
       "38       2\n",
       "29       2\n",
       "77       2\n",
       "25       2\n",
       "21       2\n",
       "83       2\n",
       "88       2\n",
       "      ... \n",
       "8        1\n",
       "4        1\n",
       "9        1\n",
       "17       1\n",
       "34       1\n",
       "43       1\n",
       "50       1\n",
       "26       1\n",
       "22       1\n",
       "18       1\n",
       "14       1\n",
       "10       1\n",
       "6        1\n",
       "2        1\n",
       "58       1\n",
       "62       1\n",
       "81       1\n",
       "74       1\n",
       "78       1\n",
       "69       1\n",
       "65       1\n",
       "7        1\n",
       "49       1\n",
       "23       1\n",
       "41       1\n",
       "37       1\n",
       "31       1\n",
       "35       1\n",
       "39       1\n",
       "87       1\n",
       "Name: cluster_labels, Length: 90, dtype: int64"
      ]
     },
     "execution_count": 45,
     "metadata": {},
     "output_type": "execute_result"
    }
   ],
   "source": [
    "cluster_result90_final['cluster_labels'].value_counts()"
   ]
  },
  {
   "cell_type": "markdown",
   "metadata": {},
   "source": [
    "## get list"
   ]
  },
  {
   "cell_type": "code",
   "execution_count": 54,
   "metadata": {},
   "outputs": [],
   "source": [
    "for i in df.columns:\n",
    "    str(i)"
   ]
  },
  {
   "cell_type": "code",
   "execution_count": 56,
   "metadata": {},
   "outputs": [],
   "source": [
    "cluster_user_list_dict50={}\n",
    "for i in range(len(cluster_result50_final['cluster_labels'].unique())):\n",
    "    cluster_user_list_dict50[i]=cluster_result50_final.loc[cluster_result50_final['cluster_labels']==i]\n",
    "    try:\n",
    "        cluster_user_list_dict50[i]=df[cluster_user_list_dict50[i]['key_words']]\n",
    "    except Exception as e: \n",
    "        print(e)\n",
    "    cluster_user_list_dict50[i]=cluster_user_list_dict50[i].loc[~(cluster_user_list_dict50[i]==0).all(axis=1)]"
   ]
  },
  {
   "cell_type": "code",
   "execution_count": 67,
   "metadata": {},
   "outputs": [
    {
     "name": "stdout",
     "output_type": "stream",
     "text": [
      "0 78006\n",
      "1 77908\n",
      "2 68720\n",
      "3 68761\n",
      "4 72845\n",
      "5 73272\n",
      "6 64225\n",
      "7 81339\n",
      "8 71221\n",
      "9 61053\n",
      "10 70293\n",
      "11 59222\n",
      "12 72150\n",
      "13 71553\n",
      "14 75784\n",
      "15 72273\n",
      "16 77617\n",
      "17 81824\n",
      "18 75907\n",
      "19 72206\n",
      "20 66796\n",
      "21 66291\n",
      "22 77438\n",
      "23 68776\n",
      "24 57026\n",
      "25 70985\n",
      "26 77110\n",
      "27 67289\n",
      "28 79182\n",
      "29 75532\n",
      "30 67229\n",
      "31 72760\n",
      "32 76564\n",
      "33 73028\n",
      "34 57826\n",
      "35 73109\n",
      "36 70783\n",
      "37 74085\n",
      "38 71906\n",
      "39 65061\n",
      "40 64417\n",
      "41 59103\n",
      "42 74726\n",
      "43 74905\n",
      "44 71853\n",
      "45 47682\n",
      "46 67463\n",
      "47 73985\n",
      "48 75007\n",
      "49 75130\n"
     ]
    }
   ],
   "source": [
    "for i in cluster_user_list_dict50:\n",
    "    print(i,cluster_user_list_dict50[i].shape[0])"
   ]
  },
  {
   "cell_type": "code",
   "execution_count": 68,
   "metadata": {},
   "outputs": [],
   "source": [
    "cluster_user_list_dict90={}\n",
    "for i in range(len(cluster_result90_final['cluster_labels'].unique())):\n",
    "    cluster_user_list_dict90[i]=cluster_result90_final.loc[cluster_result90_final['cluster_labels']==i]\n",
    "    try:\n",
    "        cluster_user_list_dict90[i]=df[cluster_user_list_dict90[i]['key_words']]\n",
    "    except Exception as e: \n",
    "        print(e)\n",
    "    cluster_user_list_dict90[i]=cluster_user_list_dict90[i].loc[~(cluster_user_list_dict90[i]==0).all(axis=1)]"
   ]
  },
  {
   "cell_type": "code",
   "execution_count": 69,
   "metadata": {},
   "outputs": [
    {
     "name": "stdout",
     "output_type": "stream",
     "text": [
      "0 77429\n",
      "1 59097\n",
      "2 67289\n",
      "3 77110\n",
      "4 56334\n",
      "5 55981\n",
      "6 73409\n",
      "7 69240\n",
      "8 68763\n",
      "9 71221\n",
      "10 56739\n",
      "11 78520\n",
      "12 49395\n",
      "13 40179\n",
      "14 67754\n",
      "15 76990\n",
      "16 67731\n",
      "17 57993\n",
      "18 73028\n",
      "19 70952\n",
      "20 71547\n",
      "21 41229\n",
      "22 73109\n",
      "23 76144\n",
      "24 70293\n",
      "25 73138\n",
      "26 63489\n",
      "27 73102\n",
      "28 68255\n",
      "29 57257\n",
      "30 62147\n",
      "31 66149\n",
      "32 64401\n",
      "33 74808\n",
      "34 62046\n",
      "35 65061\n",
      "36 71502\n",
      "37 56332\n",
      "38 53686\n",
      "39 60359\n",
      "40 72273\n",
      "41 67462\n",
      "42 50695\n",
      "43 81824\n",
      "44 71969\n",
      "45 68492\n",
      "46 71003\n",
      "47 75130\n",
      "48 58715\n",
      "49 62786\n",
      "50 72820\n",
      "51 59103\n",
      "52 60819\n",
      "53 69555\n",
      "54 57026\n",
      "55 70208\n",
      "56 41988\n",
      "57 56644\n",
      "58 50556\n",
      "59 34035\n",
      "60 67463\n",
      "61 72553\n",
      "62 72061\n",
      "63 66675\n",
      "64 59705\n",
      "65 57826\n",
      "66 69894\n",
      "67 65475\n",
      "68 68390\n",
      "69 62076\n",
      "70 65181\n",
      "71 66796\n",
      "72 66291\n",
      "73 55445\n",
      "74 54616\n",
      "75 55615\n",
      "76 75604\n",
      "77 58904\n",
      "78 55230\n",
      "79 68980\n",
      "80 57520\n",
      "81 50055\n",
      "82 70826\n",
      "83 64554\n",
      "84 61689\n",
      "85 67855\n",
      "86 63538\n",
      "87 58786\n",
      "88 69389\n",
      "89 73588\n"
     ]
    }
   ],
   "source": [
    "for i in cluster_user_list_dict90:\n",
    "    print(i,cluster_user_list_dict90[i].shape[0])"
   ]
  },
  {
   "cell_type": "code",
   "execution_count": 79,
   "metadata": {},
   "outputs": [
    {
     "data": {
      "text/plain": [
       "15    4812\n",
       "0      246\n",
       "73      31\n",
       "33      28\n",
       "76      28\n",
       "11      23\n",
       "71      21\n",
       "27      20\n",
       "66      15\n",
       "70      15\n",
       "89      15\n",
       "82      14\n",
       "36      13\n",
       "19      13\n",
       "12       7\n",
       "54       6\n",
       "55       4\n",
       "68       4\n",
       "16       4\n",
       "53       4\n",
       "57       3\n",
       "46       3\n",
       "61       2\n",
       "38       2\n",
       "29       2\n",
       "77       2\n",
       "25       2\n",
       "21       2\n",
       "83       2\n",
       "88       2\n",
       "      ... \n",
       "8        1\n",
       "4        1\n",
       "9        1\n",
       "17       1\n",
       "34       1\n",
       "43       1\n",
       "50       1\n",
       "26       1\n",
       "22       1\n",
       "18       1\n",
       "14       1\n",
       "10       1\n",
       "6        1\n",
       "2        1\n",
       "58       1\n",
       "62       1\n",
       "81       1\n",
       "74       1\n",
       "78       1\n",
       "69       1\n",
       "65       1\n",
       "7        1\n",
       "49       1\n",
       "23       1\n",
       "41       1\n",
       "37       1\n",
       "31       1\n",
       "35       1\n",
       "39       1\n",
       "87       1\n",
       "Name: cluster_labels, Length: 90, dtype: int64"
      ]
     },
     "execution_count": 79,
     "metadata": {},
     "output_type": "execute_result"
    }
   ],
   "source": [
    "cluster_result90_final['cluster_labels'].value_counts()"
   ]
  },
  {
   "cell_type": "code",
   "execution_count": 96,
   "metadata": {},
   "outputs": [],
   "source": [
    "df_sum=df.sum(axis=1)"
   ]
  },
  {
   "cell_type": "code",
   "execution_count": null,
   "metadata": {},
   "outputs": [],
   "source": []
  }
 ],
 "metadata": {
  "kernelspec": {
   "display_name": "Python 3",
   "language": "python",
   "name": "python3"
  },
  "language_info": {
   "codemirror_mode": {
    "name": "ipython",
    "version": 3
   },
   "file_extension": ".py",
   "mimetype": "text/x-python",
   "name": "python",
   "nbconvert_exporter": "python",
   "pygments_lexer": "ipython3",
   "version": "3.7.3"
  }
 },
 "nbformat": 4,
 "nbformat_minor": 2
}
